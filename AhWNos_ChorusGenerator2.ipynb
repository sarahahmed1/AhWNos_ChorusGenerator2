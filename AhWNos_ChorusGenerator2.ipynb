{
 "cells": [
  {
   "cell_type": "code",
   "execution_count": 13,
   "metadata": {},
   "outputs": [
    {
     "name": "stdout",
     "output_type": "stream",
     "text": [
      "\n",
      "7ABIBI GHOOR MN WESHI BOS W BOS BOS ZA3LAN EZ3AL, EZ3AL NOS NOS LA7SAN HAB3AD AH W NOS W HATEB2A ENTA AKEED EBN KALB MAFEESH 7AGA TEEGI KEDA EWLA3 HABIBI KEDA EB3AD ZAY ZAMAN YABNI ESMA3NI HATDALA3NI TAKHOD REGLI KAMAN. \n",
      "\n"
     ]
    }
   ],
   "source": [
    "#!/usr/bin/env python\n",
    "# coding: utf-8\n",
    "\n",
    "# In[1]:\n",
    "\n",
    "\n",
    "#!/usr/bin/python\n",
    "\n",
    "# Stochastic Texts, copyright (c) 2014 Nick Montfort <nickm@nickm.com>\n",
    "# Original by Theo Lutz, 1959; translation by Helen MacCormack\n",
    "#\n",
    "# Permission to use, copy, modify, and/or distribute this software for any\n",
    "# purpose with or without fee is hereby granted, provided that the above\n",
    "# copyright notice and this permission notice appear in all copies.\n",
    "#\n",
    "# THE SOFTWARE IS PROVIDED \"AS IS\" AND THE AUTHOR DISCLAIMS ALL WARRANTIES\n",
    "# WITH REGARD TO THIS SOFTWARE INCLUDING ALL IMPLIED WARRANTIES OF\n",
    "# MERCHANTABILITY AND FITNESS. IN NO EVENT SHALL THE AUTHOR BE LIABLE FOR ANY\n",
    "# SPECIAL, DIRECT, INDIRECT, OR CONSEQUENTIAL DAMAGES OR ANY DAMAGES\n",
    "# WHATSOEVER RESULTING FROM LOSS OF USE, DATA OR PROFITS, WHETHER IN AN\n",
    "# ACTION OF CONTRACT, NEGLIGENCE OR OTHER TORTIOUS ACTION, ARISING OUT OF OR\n",
    "# IN CONNECTION WITH THE USE OR PERFORMANCE OF THIS SOFTWARE.\n",
    "#\n",
    "# Updated 31 May 2018 to add compatibility with Python 3 (Python 2 still works)\n",
    "\n",
    "from random import choice\n",
    "\n",
    "tany = ['2RAB', 'EB3ED', 'TA3ALA', 'GHOOR MN WESHI']\n",
    "za3lan = ['EZ3AL, EZ3AL', 'ESKOT, ESKOT', 'EKHRAS, EKHRAS', 'ETKALEM, ETKALEM', 'ETRAKHEM, ETRAKHEM']\n",
    "la7san = ['HAB3AD', 'HA2ARAB', 'HASEEBAK', 'HALAGE2', 'HAWALA3 FEENA E7NA ELETNEIN']\n",
    "akeed = ['KHASRAN', 'MODMEN', 'EBN KALB', 'SA3EED', 'ZA3LAN']\n",
    "keda = ['EHDA', 'EWLA3', 'ETREMI MN EL SHBAK']\n",
    "w = ['ERGA3', 'EB3AD', 'ARAB', 'EWLA3', 'ETREMI', 'EZHA2','EZHAR', 'KOL NAFSAK', 'KOL KHARA', 'ESMA3', 'ETKALEM']\n",
    "yabni = ['HATDALA3NI', 'HATEKRAHNI', 'HATERMINI', 'HATSEBNI', 'HATAKOL KALAMAK']\n",
    "takhod = ['3EINI', 'EIDI', 'KERSHI', 'REGLI', 'ALBI', 'TEEZI']\n",
    "\n",
    "\n",
    "print('')\n",
    "print( '7ABIBI ' + choice(tany) + ' BOS W BOS BOS ZA3LAN ' + choice(za3lan) + ' NOS NOS LA7SAN ' + choice(la7san) + ' AH W NOS W HATEB2A ENTA AKEED '+ choice(akeed) + ' MAFEESH 7AGA TEEGI KEDA ' + choice(keda) + ' HABIBI KEDA ' + choice(w) + ' ZAY ZAMAN YABNI ESMA3NI ' + choice(yabni) + ' TAKHOD ' + choice(takhod) + ' KAMAN. ')\n",
    "print('')\n",
    "\n",
    "\n",
    "# In[ ]:\n",
    "\n"
   ]
  },
  {
   "cell_type": "code",
   "execution_count": null,
   "metadata": {},
   "outputs": [],
   "source": []
  },
  {
   "cell_type": "code",
   "execution_count": null,
   "metadata": {},
   "outputs": [],
   "source": []
  },
  {
   "cell_type": "code",
   "execution_count": null,
   "metadata": {},
   "outputs": [],
   "source": []
  }
 ],
 "metadata": {
  "kernelspec": {
   "display_name": "Python 2",
   "language": "python",
   "name": "python2"
  },
  "language_info": {
   "codemirror_mode": {
    "name": "ipython",
    "version": 2
   },
   "file_extension": ".py",
   "mimetype": "text/x-python",
   "name": "python",
   "nbconvert_exporter": "python",
   "pygments_lexer": "ipython2",
   "version": "2.7.15"
  }
 },
 "nbformat": 4,
 "nbformat_minor": 2
}
